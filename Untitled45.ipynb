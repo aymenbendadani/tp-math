{
 "cells": [
  {
   "cell_type": "code",
   "execution_count": 54,
   "metadata": {},
   "outputs": [
    {
     "name": "stdout",
     "output_type": "stream",
     "text": [
      "[[0. 0. 0. 0. 0.]\n",
      " [0. 0. 0. 0. 0.]\n",
      " [0. 0. 0. 0. 0.]]\n"
     ]
    }
   ],
   "source": [
    "import numpy as np\n",
    "m = np.zeros((3,5))\n",
    "print (m)\n",
    "\n"
   ]
  },
  {
   "cell_type": "code",
   "execution_count": 55,
   "metadata": {},
   "outputs": [
    {
     "name": "stdout",
     "output_type": "stream",
     "text": [
      "[[  1.   1.   1.   1.]\n",
      " [  1.   2.   4.   8.]\n",
      " [  1.   3.   9.  27.]\n",
      " [  1.   7.  49. 343.]]\n"
     ]
    }
   ],
   "source": [
    "l=[(1,1),(2,5),(3,6),(7,8)]\n",
    "n=len(l)\n",
    "m=np.zeros((n,n))\n",
    "for i in range (n):\n",
    "    for j in range (n):\n",
    "        m[i][j]=l[i][0]**j\n",
    "print (m)        \n"
   ]
  },
  {
   "cell_type": "code",
   "execution_count": 56,
   "metadata": {},
   "outputs": [
    {
     "name": "stdout",
     "output_type": "stream",
     "text": [
      "[[ 3.5        -4.2         1.75       -0.05      ]\n",
      " [-3.41666667  6.2        -2.875       0.09166667]\n",
      " [ 1.         -2.2         1.25       -0.05      ]\n",
      " [-0.08333333  0.2        -0.125       0.00833333]]\n"
     ]
    }
   ],
   "source": [
    "from numpy.linalg import inv\n",
    "n=np.linalg.inv(m)\n",
    "print(n)"
   ]
  },
  {
   "cell_type": "code",
   "execution_count": 57,
   "metadata": {},
   "outputs": [
    {
     "name": "stdout",
     "output_type": "stream",
     "text": [
      "[[1.]\n",
      " [5.]\n",
      " [6.]\n",
      " [8.]]\n"
     ]
    }
   ],
   "source": [
    "w=np.zeros((len(l),1))\n",
    "for i in range (len(l)):\n",
    "    w[i][0]=l[i][1]\n",
    "print(w)"
   ]
  },
  {
   "cell_type": "code",
   "execution_count": 58,
   "metadata": {},
   "outputs": [
    {
     "data": {
      "text/plain": [
       "array([[-7.4       ],\n",
       "       [11.06666667],\n",
       "       [-2.9       ],\n",
       "       [ 0.23333333]])"
      ]
     },
     "execution_count": 58,
     "metadata": {},
     "output_type": "execute_result"
    }
   ],
   "source": [
    "n.dot(w)"
   ]
  },
  {
   "cell_type": "code",
   "execution_count": 59,
   "metadata": {},
   "outputs": [
    {
     "name": "stdout",
     "output_type": "stream",
     "text": [
      "[[0.]\n",
      " [0.]\n",
      " [1.]]\n"
     ]
    }
   ],
   "source": [
    "import numpy as np\n",
    "from numpy.linalg import inv\n",
    "def interpelation(l):\n",
    "    n=len(l)\n",
    "    M=np.zeros((n,n))\n",
    "    for i in range (n):\n",
    "        for j in range (n):\n",
    "            M[i][j]=l[i][0]**j\n",
    "    m=np.linalg.inv(M)\n",
    "    Y=np.zeros((len(l),1))\n",
    "    for i in range (len(l)):\n",
    "        Y[i][0]=l[i][1]\n",
    "    A=m.dot(Y)\n",
    "    return A\n",
    "print (interpelation([(-1,1),(0,0),(1,1)]))\n",
    "      "
   ]
  },
  {
   "cell_type": "code",
   "execution_count": 60,
   "metadata": {},
   "outputs": [],
   "source": [
    "import numpy as np\n",
    "X=np.arange(-4,4,0.25)\n",
    "\n"
   ]
  },
  {
   "cell_type": "code",
   "execution_count": 61,
   "metadata": {},
   "outputs": [
    {
     "name": "stdout",
     "output_type": "stream",
     "text": [
      "(3, 3)\n"
     ]
    }
   ],
   "source": [
    "def dimensions(a):\n",
    "    n=len(a)\n",
    "    p=len(a[0])\n",
    "    return (n,p)\n",
    "    \n",
    "a=[[1,2,3],[3,4,5],[4,5,6]]\n",
    "l=[]\n",
    "l=dimensions(a)\n",
    "print(l)"
   ]
  },
  {
   "cell_type": "code",
   "execution_count": 62,
   "metadata": {},
   "outputs": [
    {
     "name": "stdout",
     "output_type": "stream",
     "text": [
      "[1, 2, 3]\n",
      "[3, 4, 5]\n",
      "[4, 5, 6]\n"
     ]
    }
   ],
   "source": [
    "def affiche(a):\n",
    "    for ligne in a:\n",
    "        print(ligne)\n",
    "affiche(a)"
   ]
  },
  {
   "cell_type": "code",
   "execution_count": 63,
   "metadata": {},
   "outputs": [
    {
     "data": {
      "text/plain": [
       "[[0, 0], [0, 0], [0, 0]]"
      ]
     },
     "execution_count": 63,
     "metadata": {},
     "output_type": "execute_result"
    }
   ],
   "source": [
    "def matriceNulle(n,p):\n",
    "    return[[0 for j in range (p)] for i in range (n)]\n",
    "matriceNulle(3,2)"
   ]
  },
  {
   "cell_type": "code",
   "execution_count": 64,
   "metadata": {},
   "outputs": [
    {
     "name": "stdout",
     "output_type": "stream",
     "text": [
      "[1, 0, 0, 0]\n",
      "[0, 1, 0, 0]\n",
      "[0, 0, 1, 0]\n",
      "[0, 0, 0, 1]\n"
     ]
    }
   ],
   "source": [
    "def matriceUnite(n):\n",
    "    b=matriceNulle(n,n)\n",
    "    c=0\n",
    "    \n",
    "    while c<n:\n",
    "        b[c][c]=1\n",
    "        c=c+1\n",
    "    return(b)\n",
    "    \n",
    "b=matriceUnite(4)\n",
    "affiche(b)"
   ]
  },
  {
   "cell_type": "code",
   "execution_count": 77,
   "metadata": {},
   "outputs": [
    {
     "name": "stdout",
     "output_type": "stream",
     "text": [
      "[1, 2, 3]\n",
      "[3, 4, 5]\n",
      "[1, 3]\n",
      "[2, 4]\n",
      "[3, 5]\n"
     ]
    }
   ],
   "source": [
    "def transpose(a):\n",
    "    n,p=dimensions(a)\n",
    "    m=matriceNulle(p,n)\n",
    "    for i in range(p):\n",
    "        for j in range(n):\n",
    "            m[i][j]=a[j][i]\n",
    "    return(m)\n",
    "\n",
    "a=[[1,2,3],[3,4,5]]\n",
    "affiche(a)\n",
    "b=transpose(a)\n",
    "affiche(b)\n"
   ]
  },
  {
   "cell_type": "code",
   "execution_count": 78,
   "metadata": {},
   "outputs": [
    {
     "data": {
      "text/plain": [
       "True"
      ]
     },
     "execution_count": 78,
     "metadata": {},
     "output_type": "execute_result"
    }
   ],
   "source": [
    "def triangulairesup(a):\n",
    "    b=dimensions(a)\n",
    "    c=b[0]\n",
    "    i=0\n",
    "    j=0\n",
    "    if c==b[1]:\n",
    "        for i in range(c):\n",
    "            for j in range(i):\n",
    "                if a[i][j]!=0:\n",
    "                    return False\n",
    "        \n",
    "        return True\n",
    "    else:\n",
    "        print (\"a nest pas carre\")\n",
    "\n",
    "a=[[1,2,3],[0,4,5],[0,0,6]]\n",
    "triangulairesup(a)\n",
    "\n",
    "\n",
    "        "
   ]
  },
  {
   "cell_type": "code",
   "execution_count": 67,
   "metadata": {},
   "outputs": [
    {
     "name": "stdout",
     "output_type": "stream",
     "text": [
      "[2, 6, 6]\n",
      "[0, 8, 10]\n",
      "[1, 0, 14]\n"
     ]
    }
   ],
   "source": [
    "def sommeMatrice(a,b):\n",
    "    n,p=dimensions(a)\n",
    "    q,r=dimensions(b)\n",
    "    assert(n,p)==(q,r)\n",
    "    c=matriceNulle(n,p)\n",
    "    for i in range (n):\n",
    "        for j in range(p):\n",
    "            c[i][j]=a[i][j]+b[i][j]\n",
    "    return c\n",
    "\n",
    "a=[[1,2,3],[0,4,5],[0,0,6]]\n",
    "b=[[1,4,3],[0,4,5],[1,0,8]]\n",
    "d=sommeMatrice(a,b)\n",
    "affiche(d)\n",
    "    "
   ]
  },
  {
   "cell_type": "code",
   "execution_count": 68,
   "metadata": {},
   "outputs": [
    {
     "name": "stdout",
     "output_type": "stream",
     "text": [
      "[2, 4, 6]\n",
      "[0, 8, 10]\n",
      "[0, 0, 12]\n"
     ]
    }
   ],
   "source": [
    "def multscalaire(a,b):\n",
    "    n,p=dimensions(a)\n",
    "    c=matriceNulle(n,p)\n",
    "    for i in range (n):\n",
    "        for j in range(p):\n",
    "            c[i][j]=a[i][j]*b\n",
    "    return c\n",
    "\n",
    "a=[[1,2,3],[0,4,5],[0,0,6]]\n",
    "d=multscalaire(a,2)\n",
    "affiche(d)"
   ]
  },
  {
   "cell_type": "code",
   "execution_count": 69,
   "metadata": {},
   "outputs": [
    {
     "name": "stdout",
     "output_type": "stream",
     "text": [
      "[18, 16]\n",
      "[15, 22]\n",
      "[47, 34]\n"
     ]
    }
   ],
   "source": [
    "def produitmatrice(a,b):\n",
    "    n,p=dimensions(a)\n",
    "    q,r=dimensions(b)\n",
    "    d=0\n",
    "    if p==q:\n",
    "        c=matriceNulle(n,r)\n",
    "        for i in range(n):\n",
    "            for j in range(r):\n",
    "                d=0\n",
    "                while d<p:\n",
    "                    c[i][j]+=a[i][d]*b[d][j]\n",
    "                    d=d+1\n",
    "    return c\n",
    "\n",
    "a=[[1,2,3],[1,4,2],[5,2,8]]\n",
    "b=[[1,2],[1,4],[5,2]]\n",
    "e=produitmatrice(a,b)\n",
    "affiche(e)\n",
    "        "
   ]
  },
  {
   "cell_type": "code",
   "execution_count": 70,
   "metadata": {},
   "outputs": [
    {
     "name": "stdout",
     "output_type": "stream",
     "text": [
      "[[[[1, 2], [1, 4], [5, 2]], [[1, 2], [1, 4], [5, 2]]], [[[1, 2], [1, 4], [5, 2]], [[1, 2], [1, 4], [5, 2]]]]\n"
     ]
    }
   ],
   "source": [
    "def blocs(A,a,b):\n",
    "    c=matriceNulle(a,b)\n",
    "    for i in range(a):\n",
    "            for j in range(b):\n",
    "                c[i][j]=A\n",
    "    return c\n",
    "    \n",
    "A=[[1,2],[1,4],[5,2]]\n",
    "print(blocs(A,2,2))\n",
    "    \n",
    "    "
   ]
  },
  {
   "cell_type": "code",
   "execution_count": 71,
   "metadata": {},
   "outputs": [
    {
     "name": "stdout",
     "output_type": "stream",
     "text": [
      "[[1, 2, 3], [1, 4, 2], [5, 2, 8]]\n"
     ]
    }
   ],
   "source": [
    "def exponaif(a,n):\n",
    "    b=1\n",
    "    c=a\n",
    "    w,p=dimensions(a)\n",
    "    if n==0:\n",
    "        c=matriceUnite(w)\n",
    "    else:    \n",
    "        while b<n:\n",
    "            c=produitmatrice(c,a)\n",
    "            b=b+1\n",
    "    return c\n",
    "        \n",
    "a=[[1,2,3],[1,4,2],[5,2,8]]\n",
    "print(exponaif(a,1))\n",
    "        \n",
    "    "
   ]
  },
  {
   "cell_type": "code",
   "execution_count": 72,
   "metadata": {},
   "outputs": [
    {
     "name": "stdout",
     "output_type": "stream",
     "text": [
      "[[1, 0], [0, 1]]\n"
     ]
    }
   ],
   "source": [
    "a=[[0,1],[1,1]]\n",
    "print(exponaif(a,0))\n"
   ]
  },
  {
   "cell_type": "code",
   "execution_count": 73,
   "metadata": {},
   "outputs": [
    {
     "name": "stdout",
     "output_type": "stream",
     "text": [
      "[[701408733, 1134903170], [1134903170, 1836311903]]\n"
     ]
    }
   ],
   "source": [
    "a=[[0,1],[1,1]]\n",
    "print(exponaif(a,45))"
   ]
  },
  {
   "cell_type": "code",
   "execution_count": 74,
   "metadata": {},
   "outputs": [
    {
     "name": "stdout",
     "output_type": "stream",
     "text": [
      "[[1134903170, 1836311903], [1836311903, 2971215073]]\n"
     ]
    }
   ],
   "source": [
    "a=[[0,1],[1,1]]\n",
    "print(exponaif(a,46))"
   ]
  },
  {
   "cell_type": "code",
   "execution_count": null,
   "metadata": {},
   "outputs": [],
   "source": []
  },
  {
   "cell_type": "code",
   "execution_count": null,
   "metadata": {},
   "outputs": [],
   "source": []
  }
 ],
 "metadata": {
  "kernelspec": {
   "display_name": "Python 3",
   "language": "python",
   "name": "python3"
  },
  "language_info": {
   "codemirror_mode": {
    "name": "ipython",
    "version": 3
   },
   "file_extension": ".py",
   "mimetype": "text/x-python",
   "name": "python",
   "nbconvert_exporter": "python",
   "pygments_lexer": "ipython3",
   "version": "3.7.3"
  }
 },
 "nbformat": 4,
 "nbformat_minor": 2
}
